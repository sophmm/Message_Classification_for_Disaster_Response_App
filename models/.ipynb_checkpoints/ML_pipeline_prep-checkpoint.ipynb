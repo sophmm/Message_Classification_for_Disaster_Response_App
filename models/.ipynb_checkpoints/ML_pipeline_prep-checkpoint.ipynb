{
 "cells": [
  {
   "cell_type": "code",
   "execution_count": 10,
   "id": "656d497e-0d1b-4fdb-9ffc-b5375ae20da4",
   "metadata": {},
   "outputs": [],
   "source": [
    "import pandas as pd\n",
    "import sqlite3\n",
    "import time as time\n",
    "import re\n",
    "import nltk\n",
    "from nltk.tokenize import word_tokenize\n",
    "from nltk.corpus import stopwords\n",
    "from nltk.stem.wordnet import WordNetLemmatizer\n",
    "\n",
    "import pickle\n",
    "from sklearn.pipeline import Pipeline\n",
    "from sklearn.feature_extraction.text import CountVectorizer, TfidfTransformer\n",
    "from sklearn.model_selection import train_test_split, GridSearchCV\n",
    "from sklearn.multioutput import MultiOutputClassifier\n",
    "import xgboost as xgb\n",
    "\n",
    "from sklearn.metrics import f1_score, precision_score, recall_score"
   ]
  },
  {
   "cell_type": "markdown",
   "id": "522ea9f7-8fad-4b60-be02-a57e16e81995",
   "metadata": {},
   "source": [
    "### Build features from text/ text processing"
   ]
  },
  {
   "cell_type": "code",
   "execution_count": 2,
   "id": "57d77f44-76a9-43c9-8ea2-ea8a73e31a3b",
   "metadata": {},
   "outputs": [],
   "source": [
    "\n",
    "# Load data from SQL database\n",
    "conn = sqlite3.connect('../data/processed/DisasterResponse.db')\n",
    "\n",
    "# run a query\n",
    "df = pd.read_sql('SELECT * FROM DisasterResponse', conn)"
   ]
  },
  {
   "cell_type": "code",
   "execution_count": 3,
   "id": "c9cc5786-07f3-4a85-9bde-38a7e671eda2",
   "metadata": {},
   "outputs": [
    {
     "name": "stdout",
     "output_type": "stream",
     "text": [
      "(26216,)\n",
      "(26216, 24)\n"
     ]
    }
   ],
   "source": [
    "X = df.message \n",
    "genre =  df.genre\n",
    "y = df.drop(labels=['message','genre'],axis=1)\n",
    "print (X.shape)\n",
    "print (y.shape)"
   ]
  },
  {
   "cell_type": "code",
   "execution_count": 4,
   "id": "43318cc7-3c9e-4f2b-932b-0f7b79c2b25c",
   "metadata": {},
   "outputs": [],
   "source": [
    "def process_text(text):\n",
    "\n",
    "    text = text.lower()\n",
    "    text = re.sub(r'[^a-zA-Z0-9]',\" \",text)\n",
    "    words = nltk.word_tokenize(text)\n",
    "    words = [w for w in words if w not in stopwords.words(\"english\")]\n",
    "    #print (words)\n",
    "    return words\n",
    "#process_text(X[1000]) #checking works"
   ]
  },
  {
   "cell_type": "markdown",
   "id": "ea91485f-8f5a-413a-8637-0e192780dbf4",
   "metadata": {},
   "source": [
    "### Creating pipeline and fitting model"
   ]
  },
  {
   "cell_type": "code",
   "execution_count": 5,
   "id": "d3c93cd6-7d7b-49ab-b33e-fb3ee5b7b54f",
   "metadata": {},
   "outputs": [],
   "source": [
    "def create_pipeline():\n",
    "    \n",
    "    pipeline = Pipeline([\n",
    "            ('vect', CountVectorizer(tokenizer=process_text)),\n",
    "            ('tfidf', TfidfTransformer()),\n",
    "            ('clf',MultiOutputClassifier(\n",
    "                estimator=xgb.XGBClassifier(random_state=42, \n",
    "                                            use_label_encoder=False,verbosity = 0)))\n",
    "            ])\n",
    "    return pipeline\n",
    "\n",
    "#verbosity = 0 silents the warnings, & output says to add: use_label_encoder=False"
   ]
  },
  {
   "cell_type": "code",
   "execution_count": 6,
   "id": "216e675a-8783-45d7-abd7-8d4995ba901f",
   "metadata": {},
   "outputs": [],
   "source": [
    "pipeline = create_pipeline()\n",
    "X_train, X_test, y_train, y_test = train_test_split(X,y, random_state = 22)"
   ]
  },
  {
   "cell_type": "code",
   "execution_count": 7,
   "id": "fa1ce459-1ba1-4aa1-9961-4da466fb3ae1",
   "metadata": {},
   "outputs": [
    {
     "name": "stdout",
     "output_type": "stream",
     "text": [
      "Run time (s):  208.42668080329895\n"
     ]
    }
   ],
   "source": [
    "# train classifier\n",
    "import warnings\n",
    "warnings.filterwarnings('ignore')\n",
    "\n",
    "starttime = time.time() \n",
    "pipeline.fit(X_train, y_train)\n",
    "print ('Run time (s): ', time.time() - starttime)"
   ]
  },
  {
   "cell_type": "markdown",
   "id": "500f876d-6d13-4e54-af6c-07d5248447ba",
   "metadata": {},
   "source": [
    "### Predicting and evaluating model \n",
    "\n",
    "Are the number of false negatives or positives worst in this context - which error is more important or risky?"
   ]
  },
  {
   "cell_type": "code",
   "execution_count": 8,
   "id": "78bd393d-f546-4fac-94f5-1ad4ded0832b",
   "metadata": {},
   "outputs": [],
   "source": [
    "y_pred = pipeline.predict(X_test)"
   ]
  },
  {
   "cell_type": "code",
   "execution_count": 11,
   "id": "9009ebc1-6111-4d4a-8fcb-76819bd0aa8b",
   "metadata": {},
   "outputs": [
    {
     "data": {
      "text/html": [
       "<div>\n",
       "<style scoped>\n",
       "    .dataframe tbody tr th:only-of-type {\n",
       "        vertical-align: middle;\n",
       "    }\n",
       "\n",
       "    .dataframe tbody tr th {\n",
       "        vertical-align: top;\n",
       "    }\n",
       "\n",
       "    .dataframe thead th {\n",
       "        text-align: right;\n",
       "    }\n",
       "</style>\n",
       "<table border=\"1\" class=\"dataframe\">\n",
       "  <thead>\n",
       "    <tr style=\"text-align: right;\">\n",
       "      <th></th>\n",
       "      <th>Truth</th>\n",
       "      <th>Prediction</th>\n",
       "      <th>f1_score</th>\n",
       "      <th>precision_score</th>\n",
       "      <th>recall_score</th>\n",
       "    </tr>\n",
       "  </thead>\n",
       "  <tbody>\n",
       "    <tr>\n",
       "      <th>earthquake</th>\n",
       "      <td>592</td>\n",
       "      <td>534</td>\n",
       "      <td>0.859680</td>\n",
       "      <td>0.906367</td>\n",
       "      <td>0.817568</td>\n",
       "    </tr>\n",
       "    <tr>\n",
       "      <th>food</th>\n",
       "      <td>740</td>\n",
       "      <td>717</td>\n",
       "      <td>0.787920</td>\n",
       "      <td>0.800558</td>\n",
       "      <td>0.775676</td>\n",
       "    </tr>\n",
       "    <tr>\n",
       "      <th>weather</th>\n",
       "      <td>1824</td>\n",
       "      <td>1436</td>\n",
       "      <td>0.764417</td>\n",
       "      <td>0.867688</td>\n",
       "      <td>0.683114</td>\n",
       "    </tr>\n",
       "    <tr>\n",
       "      <th>water</th>\n",
       "      <td>423</td>\n",
       "      <td>359</td>\n",
       "      <td>0.736573</td>\n",
       "      <td>0.802228</td>\n",
       "      <td>0.680851</td>\n",
       "    </tr>\n",
       "    <tr>\n",
       "      <th>storm</th>\n",
       "      <td>630</td>\n",
       "      <td>525</td>\n",
       "      <td>0.701299</td>\n",
       "      <td>0.771429</td>\n",
       "      <td>0.642857</td>\n",
       "    </tr>\n",
       "    <tr>\n",
       "      <th>floods</th>\n",
       "      <td>538</td>\n",
       "      <td>364</td>\n",
       "      <td>0.682927</td>\n",
       "      <td>0.846154</td>\n",
       "      <td>0.572491</td>\n",
       "    </tr>\n",
       "    <tr>\n",
       "      <th>shelter</th>\n",
       "      <td>574</td>\n",
       "      <td>439</td>\n",
       "      <td>0.669299</td>\n",
       "      <td>0.772210</td>\n",
       "      <td>0.590592</td>\n",
       "    </tr>\n",
       "    <tr>\n",
       "      <th>death</th>\n",
       "      <td>307</td>\n",
       "      <td>186</td>\n",
       "      <td>0.616633</td>\n",
       "      <td>0.817204</td>\n",
       "      <td>0.495114</td>\n",
       "    </tr>\n",
       "    <tr>\n",
       "      <th>clothing</th>\n",
       "      <td>99</td>\n",
       "      <td>70</td>\n",
       "      <td>0.615385</td>\n",
       "      <td>0.742857</td>\n",
       "      <td>0.525253</td>\n",
       "    </tr>\n",
       "    <tr>\n",
       "      <th>fire</th>\n",
       "      <td>75</td>\n",
       "      <td>46</td>\n",
       "      <td>0.528926</td>\n",
       "      <td>0.695652</td>\n",
       "      <td>0.426667</td>\n",
       "    </tr>\n",
       "    <tr>\n",
       "      <th>buildings</th>\n",
       "      <td>326</td>\n",
       "      <td>193</td>\n",
       "      <td>0.508671</td>\n",
       "      <td>0.683938</td>\n",
       "      <td>0.404908</td>\n",
       "    </tr>\n",
       "    <tr>\n",
       "      <th>cold</th>\n",
       "      <td>144</td>\n",
       "      <td>71</td>\n",
       "      <td>0.483721</td>\n",
       "      <td>0.732394</td>\n",
       "      <td>0.361111</td>\n",
       "    </tr>\n",
       "    <tr>\n",
       "      <th>medical</th>\n",
       "      <td>722</td>\n",
       "      <td>340</td>\n",
       "      <td>0.446328</td>\n",
       "      <td>0.697059</td>\n",
       "      <td>0.328255</td>\n",
       "    </tr>\n",
       "    <tr>\n",
       "      <th>electricity</th>\n",
       "      <td>148</td>\n",
       "      <td>73</td>\n",
       "      <td>0.416290</td>\n",
       "      <td>0.630137</td>\n",
       "      <td>0.310811</td>\n",
       "    </tr>\n",
       "    <tr>\n",
       "      <th>military</th>\n",
       "      <td>206</td>\n",
       "      <td>98</td>\n",
       "      <td>0.394737</td>\n",
       "      <td>0.612245</td>\n",
       "      <td>0.291262</td>\n",
       "    </tr>\n",
       "    <tr>\n",
       "      <th>money</th>\n",
       "      <td>149</td>\n",
       "      <td>63</td>\n",
       "      <td>0.386792</td>\n",
       "      <td>0.650794</td>\n",
       "      <td>0.275168</td>\n",
       "    </tr>\n",
       "    <tr>\n",
       "      <th>transport</th>\n",
       "      <td>282</td>\n",
       "      <td>106</td>\n",
       "      <td>0.381443</td>\n",
       "      <td>0.698113</td>\n",
       "      <td>0.262411</td>\n",
       "    </tr>\n",
       "    <tr>\n",
       "      <th>refugees</th>\n",
       "      <td>203</td>\n",
       "      <td>89</td>\n",
       "      <td>0.335616</td>\n",
       "      <td>0.550562</td>\n",
       "      <td>0.241379</td>\n",
       "    </tr>\n",
       "    <tr>\n",
       "      <th>search_and_rescue</th>\n",
       "      <td>190</td>\n",
       "      <td>53</td>\n",
       "      <td>0.255144</td>\n",
       "      <td>0.584906</td>\n",
       "      <td>0.163158</td>\n",
       "    </tr>\n",
       "    <tr>\n",
       "      <th>missing_people</th>\n",
       "      <td>73</td>\n",
       "      <td>23</td>\n",
       "      <td>0.250000</td>\n",
       "      <td>0.521739</td>\n",
       "      <td>0.164384</td>\n",
       "    </tr>\n",
       "    <tr>\n",
       "      <th>infrastructure</th>\n",
       "      <td>439</td>\n",
       "      <td>85</td>\n",
       "      <td>0.194656</td>\n",
       "      <td>0.600000</td>\n",
       "      <td>0.116173</td>\n",
       "    </tr>\n",
       "    <tr>\n",
       "      <th>security</th>\n",
       "      <td>120</td>\n",
       "      <td>9</td>\n",
       "      <td>0.062016</td>\n",
       "      <td>0.444444</td>\n",
       "      <td>0.033333</td>\n",
       "    </tr>\n",
       "  </tbody>\n",
       "</table>\n",
       "</div>"
      ],
      "text/plain": [
       "                   Truth  Prediction  f1_score  precision_score  recall_score\n",
       "earthquake           592         534  0.859680         0.906367      0.817568\n",
       "food                 740         717  0.787920         0.800558      0.775676\n",
       "weather             1824        1436  0.764417         0.867688      0.683114\n",
       "water                423         359  0.736573         0.802228      0.680851\n",
       "storm                630         525  0.701299         0.771429      0.642857\n",
       "floods               538         364  0.682927         0.846154      0.572491\n",
       "shelter              574         439  0.669299         0.772210      0.590592\n",
       "death                307         186  0.616633         0.817204      0.495114\n",
       "clothing              99          70  0.615385         0.742857      0.525253\n",
       "fire                  75          46  0.528926         0.695652      0.426667\n",
       "buildings            326         193  0.508671         0.683938      0.404908\n",
       "cold                 144          71  0.483721         0.732394      0.361111\n",
       "medical              722         340  0.446328         0.697059      0.328255\n",
       "electricity          148          73  0.416290         0.630137      0.310811\n",
       "military             206          98  0.394737         0.612245      0.291262\n",
       "money                149          63  0.386792         0.650794      0.275168\n",
       "transport            282         106  0.381443         0.698113      0.262411\n",
       "refugees             203          89  0.335616         0.550562      0.241379\n",
       "search_and_rescue    190          53  0.255144         0.584906      0.163158\n",
       "missing_people        73          23  0.250000         0.521739      0.164384\n",
       "infrastructure       439          85  0.194656         0.600000      0.116173\n",
       "security             120           9  0.062016         0.444444      0.033333"
      ]
     },
     "execution_count": 11,
     "metadata": {},
     "output_type": "execute_result"
    }
   ],
   "source": [
    "def evaluate_model(y_test, y_pred):\n",
    "    \n",
    "    #adding the sum of identified categories, f-score and precison/ recall to a \n",
    "    #dataframe for each category:\n",
    "\n",
    "    data = {'Truth':  y_test.sum(axis=0),\n",
    "            'Prediction': y_pred.sum(axis=0),\n",
    "            }\n",
    "    eval_df = pd.DataFrame(data)\n",
    "\n",
    "    y_pred = pd.DataFrame(y_pred, columns=y_test.columns)\n",
    "    f1_scores = []\n",
    "    prec_scores = []\n",
    "    recall_scores = []\n",
    "    for col in y_pred.columns:\n",
    "        f1_scores.append(f1_score(y_test[col], y_pred[col]))\n",
    "        prec_scores.append(precision_score(y_test[col], y_pred[col]))\n",
    "        recall_scores.append(recall_score(y_test[col], y_pred[col]))\n",
    "\n",
    "    eval_df['f1_score'] = f1_scores\n",
    "    eval_df['precision_score'] = prec_scores\n",
    "    eval_df['recall_score'] = recall_scores\n",
    "    eval_df = eval_df.sort_values(by='f1_score',ascending=False)\n",
    "    return eval_df\n",
    "\n",
    "eval_df = evaluate_model(y_test, y_pred)\n",
    "eval_df = eval_df.iloc[:-2,:] #removing shops and tools\n",
    "\n",
    "#saving evaluation metric df for use in app:\n",
    "with open('eval_df.pkl', 'wb') as f:\n",
    "    pickle.dump(eval_df, f)\n",
    "        \n",
    "eval_df"
   ]
  },
  {
   "cell_type": "code",
   "execution_count": 75,
   "id": "e69ef29a-06a4-47a2-99d9-e8a94b0af645",
   "metadata": {},
   "outputs": [
    {
     "data": {
      "text/plain": [
       "0.3817722899481842"
      ]
     },
     "execution_count": 75,
     "metadata": {},
     "output_type": "execute_result"
    }
   ],
   "source": [
    "eval_df['recall_score'].mean()"
   ]
  },
  {
   "cell_type": "markdown",
   "id": "6401a521-4b84-4aa7-baa9-3323e3eaf1c7",
   "metadata": {},
   "source": [
    "Even though the prediction is categorising the messages, they are often the wrong category as indicated by the f-score (a combination of precision and recall).\n",
    "\n",
    "How many of the relevant messages are categoried (recall)? The low recall score suggests true positives are not picked up and lots of relevant messages are missed, with a mean of 0.38 across all categories.\n",
    "\n",
    "How many of the categoried messages are relevant (precision)? The precision score is much higher than the recall, with a mean of 0.64 across all categories, which suggests generally when a message is categorized it's normally correct.\n",
    "\n",
    "As a result of low recall, the poorest performing categories (f-score < 0.3) are search and rescue, security, missing people and infrastructure (and tools/ shops). The messages in these categories are more likely to be missed/ not picked up.\n",
    "\n",
    "The highest performing categories (f-score > 0.65) are mainly weather-related messages (e.g. storm, earthquake, floods) and food, water and shelter. This suggests these messages may be clearer or have more similar terminology, so it's easier for the model to classify them together.\n",
    "\n",
    "We know from the initial analysis of the dataset the categories are imbalanced, despite combining categories and removing irrevelant ones at the start (process_data.py). Generally for a category the larger number of messages (see process_data.py), the higher f-score with the exception of medical and infrastructure where the classifer still perform poorly, and with the exception of water where the classifier performs better with fewer messages."
   ]
  },
  {
   "cell_type": "code",
   "execution_count": null,
   "id": "3cb97891-f984-4736-a945-74aa91bda164",
   "metadata": {},
   "outputs": [],
   "source": []
  },
  {
   "cell_type": "markdown",
   "id": "347bfbf6-f79f-46b7-806f-acb552fab6b7",
   "metadata": {},
   "source": [
    "### Improvements\n",
    "\n",
    "1. Hyperparameters in XGBoost can be tuned using cross-validation/ Grid Search.\n"
   ]
  },
  {
   "cell_type": "code",
   "execution_count": 15,
   "id": "77da877f-7342-4d7c-a219-17d9e9527840",
   "metadata": {},
   "outputs": [],
   "source": [
    "parameters = {\n",
    "    'clf__estimator__n_estimators': [150, 200],\n",
    "    'clf__estimator__max_depth': [3, 4, 5],\n",
    "    'clf__estimator__learning_rate': [0.05, 0.1, 0.2],\n",
    "#    'clf__estimator__early_stopping_rounds': [5,10],\n",
    "}\n",
    "\n",
    "#https://xgboost.readthedocs.io/en/latest/parameter.html\n",
    "\n",
    "# n_estimators — the number of runs XGBoost will try to learn\n",
    "\n",
    "# max_depth - maximum depth of a tree. Increasing this value will make the model more complex and more likely to overfit.\n",
    "\n",
    "# learning_rate — learning speed, eta [default=0.3, alias: learning_rate], Step size shrinkage used in update to prevents overfitting. \n",
    "#After each boosting step, we can directly get the weights of new features, and eta shrinks the feature weights to make the boosting \n",
    "#process more conservative.range: [0,1]\n",
    "\n",
    "# early_stopping_rounds — overfitting prevention, stop early if no improvement in learning\n",
    "\n",
    "\n",
    "tuned_classifer = GridSearchCV(pipeline, param_grid=parameters, cv=3, n_jobs=1)"
   ]
  },
  {
   "cell_type": "code",
   "execution_count": 16,
   "id": "a25e0a5c-6ea1-442d-b447-433c089f0fd0",
   "metadata": {},
   "outputs": [
    {
     "name": "stdout",
     "output_type": "stream",
     "text": [
      "Run time (s):  6543.227392673492\n"
     ]
    }
   ],
   "source": [
    "starttime = time.time() \n",
    "tuned_classifer.fit(X_train, y_train)\n",
    "print ('Run time (s): ',time.time() - starttime) #1.8 hours"
   ]
  },
  {
   "cell_type": "code",
   "execution_count": 17,
   "id": "e9b32d59-93c9-47e2-a44d-a6ea9509337e",
   "metadata": {},
   "outputs": [
    {
     "data": {
      "text/plain": [
       "Pipeline(steps=[('vect',\n",
       "                 CountVectorizer(tokenizer=<function process_text at 0x7fbd2a11d8b0>)),\n",
       "                ('tfidf', TfidfTransformer()),\n",
       "                ('clf',\n",
       "                 MultiOutputClassifier(estimator=XGBClassifier(base_score=None,\n",
       "                                                               booster=None,\n",
       "                                                               colsample_bylevel=None,\n",
       "                                                               colsample_bynode=None,\n",
       "                                                               colsample_bytree=None,\n",
       "                                                               enable_categorical=False,\n",
       "                                                               gamma=None,\n",
       "                                                               gpu_id=None,\n",
       "                                                               importance_type=None,\n",
       "                                                               interaction_...s=None,\n",
       "                                                               learning_rate=0.1,\n",
       "                                                               max_delta_step=None,\n",
       "                                                               max_depth=4,\n",
       "                                                               min_child_weight=None,\n",
       "                                                               missing=nan,\n",
       "                                                               monotone_constraints=None,\n",
       "                                                               n_estimators=200,\n",
       "                                                               n_jobs=None,\n",
       "                                                               num_parallel_tree=None,\n",
       "                                                               predictor=None,\n",
       "                                                               random_state=42,\n",
       "                                                               reg_alpha=None,\n",
       "                                                               reg_lambda=None,\n",
       "                                                               scale_pos_weight=None,\n",
       "                                                               subsample=None,\n",
       "                                                               tree_method=None,\n",
       "                                                               use_label_encoder=False,\n",
       "                                                               validate_parameters=None,\n",
       "                                                               verbosity=0)))])"
      ]
     },
     "execution_count": 17,
     "metadata": {},
     "output_type": "execute_result"
    }
   ],
   "source": [
    "tuned_classifer.best_estimator_"
   ]
  },
  {
   "cell_type": "code",
   "execution_count": 18,
   "id": "d6e28b9f-869c-4192-bc78-4d84a063d3d1",
   "metadata": {},
   "outputs": [
    {
     "data": {
      "text/html": [
       "<div>\n",
       "<style scoped>\n",
       "    .dataframe tbody tr th:only-of-type {\n",
       "        vertical-align: middle;\n",
       "    }\n",
       "\n",
       "    .dataframe tbody tr th {\n",
       "        vertical-align: top;\n",
       "    }\n",
       "\n",
       "    .dataframe thead th {\n",
       "        text-align: right;\n",
       "    }\n",
       "</style>\n",
       "<table border=\"1\" class=\"dataframe\">\n",
       "  <thead>\n",
       "    <tr style=\"text-align: right;\">\n",
       "      <th></th>\n",
       "      <th>Truth</th>\n",
       "      <th>Prediction</th>\n",
       "      <th>f1_score</th>\n",
       "      <th>precision_score</th>\n",
       "      <th>recall_score</th>\n",
       "    </tr>\n",
       "  </thead>\n",
       "  <tbody>\n",
       "    <tr>\n",
       "      <th>earthquake</th>\n",
       "      <td>592</td>\n",
       "      <td>527</td>\n",
       "      <td>0.859696</td>\n",
       "      <td>0.912713</td>\n",
       "      <td>0.812500</td>\n",
       "    </tr>\n",
       "    <tr>\n",
       "      <th>food</th>\n",
       "      <td>740</td>\n",
       "      <td>719</td>\n",
       "      <td>0.795065</td>\n",
       "      <td>0.806676</td>\n",
       "      <td>0.783784</td>\n",
       "    </tr>\n",
       "    <tr>\n",
       "      <th>weather</th>\n",
       "      <td>1824</td>\n",
       "      <td>1321</td>\n",
       "      <td>0.738951</td>\n",
       "      <td>0.879637</td>\n",
       "      <td>0.637061</td>\n",
       "    </tr>\n",
       "    <tr>\n",
       "      <th>water</th>\n",
       "      <td>423</td>\n",
       "      <td>355</td>\n",
       "      <td>0.717224</td>\n",
       "      <td>0.785915</td>\n",
       "      <td>0.659574</td>\n",
       "    </tr>\n",
       "    <tr>\n",
       "      <th>floods</th>\n",
       "      <td>538</td>\n",
       "      <td>343</td>\n",
       "      <td>0.685585</td>\n",
       "      <td>0.880466</td>\n",
       "      <td>0.561338</td>\n",
       "    </tr>\n",
       "    <tr>\n",
       "      <th>storm</th>\n",
       "      <td>630</td>\n",
       "      <td>482</td>\n",
       "      <td>0.678058</td>\n",
       "      <td>0.782158</td>\n",
       "      <td>0.598413</td>\n",
       "    </tr>\n",
       "    <tr>\n",
       "      <th>shelter</th>\n",
       "      <td>574</td>\n",
       "      <td>401</td>\n",
       "      <td>0.662564</td>\n",
       "      <td>0.805486</td>\n",
       "      <td>0.562718</td>\n",
       "    </tr>\n",
       "    <tr>\n",
       "      <th>clothing</th>\n",
       "      <td>99</td>\n",
       "      <td>71</td>\n",
       "      <td>0.647059</td>\n",
       "      <td>0.774648</td>\n",
       "      <td>0.555556</td>\n",
       "    </tr>\n",
       "    <tr>\n",
       "      <th>death</th>\n",
       "      <td>307</td>\n",
       "      <td>176</td>\n",
       "      <td>0.608696</td>\n",
       "      <td>0.835227</td>\n",
       "      <td>0.478827</td>\n",
       "    </tr>\n",
       "    <tr>\n",
       "      <th>fire</th>\n",
       "      <td>75</td>\n",
       "      <td>43</td>\n",
       "      <td>0.559322</td>\n",
       "      <td>0.767442</td>\n",
       "      <td>0.440000</td>\n",
       "    </tr>\n",
       "    <tr>\n",
       "      <th>cold</th>\n",
       "      <td>144</td>\n",
       "      <td>77</td>\n",
       "      <td>0.506787</td>\n",
       "      <td>0.727273</td>\n",
       "      <td>0.388889</td>\n",
       "    </tr>\n",
       "    <tr>\n",
       "      <th>buildings</th>\n",
       "      <td>326</td>\n",
       "      <td>161</td>\n",
       "      <td>0.488706</td>\n",
       "      <td>0.739130</td>\n",
       "      <td>0.365031</td>\n",
       "    </tr>\n",
       "    <tr>\n",
       "      <th>medical</th>\n",
       "      <td>722</td>\n",
       "      <td>282</td>\n",
       "      <td>0.394422</td>\n",
       "      <td>0.702128</td>\n",
       "      <td>0.274238</td>\n",
       "    </tr>\n",
       "    <tr>\n",
       "      <th>electricity</th>\n",
       "      <td>148</td>\n",
       "      <td>60</td>\n",
       "      <td>0.384615</td>\n",
       "      <td>0.666667</td>\n",
       "      <td>0.270270</td>\n",
       "    </tr>\n",
       "    <tr>\n",
       "      <th>transport</th>\n",
       "      <td>282</td>\n",
       "      <td>94</td>\n",
       "      <td>0.377660</td>\n",
       "      <td>0.755319</td>\n",
       "      <td>0.251773</td>\n",
       "    </tr>\n",
       "    <tr>\n",
       "      <th>military</th>\n",
       "      <td>206</td>\n",
       "      <td>81</td>\n",
       "      <td>0.369338</td>\n",
       "      <td>0.654321</td>\n",
       "      <td>0.257282</td>\n",
       "    </tr>\n",
       "    <tr>\n",
       "      <th>money</th>\n",
       "      <td>149</td>\n",
       "      <td>51</td>\n",
       "      <td>0.330000</td>\n",
       "      <td>0.647059</td>\n",
       "      <td>0.221477</td>\n",
       "    </tr>\n",
       "    <tr>\n",
       "      <th>refugees</th>\n",
       "      <td>203</td>\n",
       "      <td>75</td>\n",
       "      <td>0.316547</td>\n",
       "      <td>0.586667</td>\n",
       "      <td>0.216749</td>\n",
       "    </tr>\n",
       "    <tr>\n",
       "      <th>search_and_rescue</th>\n",
       "      <td>190</td>\n",
       "      <td>51</td>\n",
       "      <td>0.265560</td>\n",
       "      <td>0.627451</td>\n",
       "      <td>0.168421</td>\n",
       "    </tr>\n",
       "    <tr>\n",
       "      <th>missing_people</th>\n",
       "      <td>73</td>\n",
       "      <td>20</td>\n",
       "      <td>0.236559</td>\n",
       "      <td>0.550000</td>\n",
       "      <td>0.150685</td>\n",
       "    </tr>\n",
       "    <tr>\n",
       "      <th>infrastructure</th>\n",
       "      <td>439</td>\n",
       "      <td>51</td>\n",
       "      <td>0.138776</td>\n",
       "      <td>0.666667</td>\n",
       "      <td>0.077449</td>\n",
       "    </tr>\n",
       "    <tr>\n",
       "      <th>security</th>\n",
       "      <td>120</td>\n",
       "      <td>4</td>\n",
       "      <td>0.048387</td>\n",
       "      <td>0.750000</td>\n",
       "      <td>0.025000</td>\n",
       "    </tr>\n",
       "    <tr>\n",
       "      <th>tools</th>\n",
       "      <td>36</td>\n",
       "      <td>6</td>\n",
       "      <td>0.000000</td>\n",
       "      <td>0.000000</td>\n",
       "      <td>0.000000</td>\n",
       "    </tr>\n",
       "    <tr>\n",
       "      <th>shops</th>\n",
       "      <td>26</td>\n",
       "      <td>1</td>\n",
       "      <td>0.000000</td>\n",
       "      <td>0.000000</td>\n",
       "      <td>0.000000</td>\n",
       "    </tr>\n",
       "  </tbody>\n",
       "</table>\n",
       "</div>"
      ],
      "text/plain": [
       "                   Truth  Prediction  f1_score  precision_score  recall_score\n",
       "earthquake           592         527  0.859696         0.912713      0.812500\n",
       "food                 740         719  0.795065         0.806676      0.783784\n",
       "weather             1824        1321  0.738951         0.879637      0.637061\n",
       "water                423         355  0.717224         0.785915      0.659574\n",
       "floods               538         343  0.685585         0.880466      0.561338\n",
       "storm                630         482  0.678058         0.782158      0.598413\n",
       "shelter              574         401  0.662564         0.805486      0.562718\n",
       "clothing              99          71  0.647059         0.774648      0.555556\n",
       "death                307         176  0.608696         0.835227      0.478827\n",
       "fire                  75          43  0.559322         0.767442      0.440000\n",
       "cold                 144          77  0.506787         0.727273      0.388889\n",
       "buildings            326         161  0.488706         0.739130      0.365031\n",
       "medical              722         282  0.394422         0.702128      0.274238\n",
       "electricity          148          60  0.384615         0.666667      0.270270\n",
       "transport            282          94  0.377660         0.755319      0.251773\n",
       "military             206          81  0.369338         0.654321      0.257282\n",
       "money                149          51  0.330000         0.647059      0.221477\n",
       "refugees             203          75  0.316547         0.586667      0.216749\n",
       "search_and_rescue    190          51  0.265560         0.627451      0.168421\n",
       "missing_people        73          20  0.236559         0.550000      0.150685\n",
       "infrastructure       439          51  0.138776         0.666667      0.077449\n",
       "security             120           4  0.048387         0.750000      0.025000\n",
       "tools                 36           6  0.000000         0.000000      0.000000\n",
       "shops                 26           1  0.000000         0.000000      0.000000"
      ]
     },
     "execution_count": 18,
     "metadata": {},
     "output_type": "execute_result"
    }
   ],
   "source": [
    "y_pred2 = tuned_classifer.predict(X_test)\n",
    "\n",
    "eval_df = evaluate_model(y_test, y_pred2)\n",
    "eval_df"
   ]
  },
  {
   "cell_type": "markdown",
   "id": "324ca412-bf63-476f-a1b4-4049cf8d5ec8",
   "metadata": {},
   "source": [
    "There is a very small improvement (~0.01) in the f-score after tuning hyperparameters, and minimal change to the conclusions drawn above. There is also a much larger computational time, therefore GridSearchCV is excluded from the pipeline for the app."
   ]
  },
  {
   "cell_type": "markdown",
   "id": "d1b84921-c65e-4621-8770-3cba13693052",
   "metadata": {},
   "source": [
    "### Limitations & Future Work\n",
    "\n",
    "Repetitions of words within each document (message) are infrequent, as they are so short so CountVectorizer might not be the best method?\n",
    "\n",
    "We could try One-Hot encoding (treat each word/ token as own class) & assign it a vector but One-Hot encoding usually breaks down with a large vocab. \n",
    "\n",
    "Although outside the scope of this project, I suggest trying word embeddings/ clusters of words e.g. Word2Vec or GloVE (with great visualisations using t-SNE)."
   ]
  },
  {
   "cell_type": "code",
   "execution_count": null,
   "id": "5122e698-c1af-48e4-9ba9-0694cc9e4a75",
   "metadata": {},
   "outputs": [],
   "source": []
  },
  {
   "cell_type": "markdown",
   "id": "3e6f5d56-dd9f-42e1-8367-c2ad82282ca2",
   "metadata": {},
   "source": [
    "The weakest performing categories need more attention: search and rescue, security, missing people and infrastructure. \n",
    "\n",
    "Looking at what the specific messages are in these categories helps understand why the classifier struggles with these ones. The meaning of the text is often ambigous and there are often not any repeated/ familiar terminology. Example for each category are shown below:\n",
    "\n",
    "1. search_and_rescue: 'There are a lot of criminals in Jacmel city. We are asking the police to come there.' and 'Hello, we are in the Petionville area we need tents, food and water'\n",
    "\n",
    "2. security: \"I would like to know if it's safe to sleep inside the house now or not\"\n",
    "\n",
    "3. missing_people: 'I have many problems. I live at Delma. My house is destroyed. We lost our mother, my entire family. ' and 'more than 1,100 people are still missing'\n",
    "\n",
    "4. infrastructure: 'Hunger will end us in Arcahaie, Corail. ' and \"I need help my house collapsed and I'm in the streets\"\n",
    "\n",
    "If I had more time I would train an NER model to identify key phrases/ words associated with each of these categories, e.g. 'lost' or 'missing' for missing_people or 'safe' for security."
   ]
  },
  {
   "cell_type": "code",
   "execution_count": null,
   "id": "1682c7dc-6971-4e7e-8f8e-6399822e5615",
   "metadata": {},
   "outputs": [],
   "source": [
    "\n"
   ]
  },
  {
   "cell_type": "markdown",
   "id": "1b7183bb-e19d-41c5-9344-b78e96dc5abf",
   "metadata": {},
   "source": [
    "### Visualizations for dashboard"
   ]
  },
  {
   "cell_type": "code",
   "execution_count": 103,
   "id": "40e3d18b-7501-4807-b0d1-be605c64e2cb",
   "metadata": {},
   "outputs": [],
   "source": [
    "eval_df = evaluate_model(y_test, y_pred2)\n"
   ]
  },
  {
   "cell_type": "code",
   "execution_count": 104,
   "id": "5df3e3f1-4d1e-4da7-9efc-9e0ceee419c3",
   "metadata": {},
   "outputs": [],
   "source": [
    "#for app:\n",
    "eval_df2 = eval_df.sort_values(by='f1_score',ascending=False)\n",
    "eval_df2.reset_index(inplace=True)\n",
    "fscores = eval_df2['f1_score']*100 #x\n",
    "cat_fscore = eval_df2['index'] #y\n",
    "\n",
    "all_colours = ['mediumseagreen' if i > 0.6 else 'orange' \n",
    "               if (i>=0.3) and (i<= 0.6) else 'indianred' \n",
    "               for i in f_scores]     \n",
    "#title ='Classification confidence (%)', color = all_colours"
   ]
  },
  {
   "cell_type": "code",
   "execution_count": 106,
   "id": "6da3d021-d954-4bf8-80ab-cb100b3a6471",
   "metadata": {},
   "outputs": [
    {
     "data": {
      "text/plain": [
       "<AxesSubplot:title={'center':'Classification confidence (%)'}>"
      ]
     },
     "execution_count": 106,
     "metadata": {},
     "output_type": "execute_result"
    },
    {
     "data": {
      "image/png": "[encoded data removed]",
      "text/plain": [
       "<Figure size 360x504 with 1 Axes>"
      ]
     },
     "metadata": {
      "needs_background": "light"
     },
     "output_type": "display_data"
    }
   ],
   "source": [
    "f_scores = eval_df['f1_score'].sort_values()\n",
    "\n",
    "(f_scores*100).plot.barh(figsize=(5,7), title ='Classification confidence (%)', color = all_colours)\n",
    "    "
   ]
  },
  {
   "cell_type": "code",
   "execution_count": 119,
   "id": "e96118a5-9beb-47bb-a0dd-52025365ba69",
   "metadata": {},
   "outputs": [],
   "source": [
    "def per_of_message_per_cat(df):\n",
    "    return (df.sum(axis=0) /df.sum(axis=0).sum()) * 100"
   ]
  },
  {
   "cell_type": "code",
   "execution_count": 120,
   "id": "593de2dc-2a6a-4179-8acf-b67e6cb079b3",
   "metadata": {},
   "outputs": [],
   "source": [
    "#for app:\n",
    "perc_mess = per_of_message_per_cat(df.drop(columns=['message','genre']))\n",
    "perc_df = pd.DataFrame(perc_mess,columns=['perc_mess']).sort_values(by='perc_mess',ascending=False)\n",
    "perc_df.reset_index(inplace=True)\n",
    "\n",
    "perc_mess_to_plot = perc_df['perc_mess'] #x\n",
    "cat_perc_mess = perc_df['index'] #y\n",
    "\n",
    "#title ='% of messages used for training the model',color='royalblue'"
   ]
  },
  {
   "cell_type": "code",
   "execution_count": 121,
   "id": "780f5c62-9106-4c37-9130-7858adec8905",
   "metadata": {},
   "outputs": [
    {
     "data": {
      "text/plain": [
       "<AxesSubplot:title={'center':'% of messages used for training'}>"
      ]
     },
     "execution_count": 121,
     "metadata": {},
     "output_type": "execute_result"
    },
    {
     "data": {
      "image/png": "[encoded data removed]",
      "text/plain": [
       "<Figure size 360x504 with 1 Axes>"
      ]
     },
     "metadata": {
      "needs_background": "light"
     },
     "output_type": "display_data"
    }
   ],
   "source": [
    "per_of_message_per_cat(df.drop(columns=['message','genre'])).sort_values().plot.barh(figsize=(5,7),title ='% of messages used for training',color='royalblue')\n"
   ]
  },
  {
   "cell_type": "code",
   "execution_count": 89,
   "id": "76fb7998-d2fe-4926-82d3-a5cee9441e05",
   "metadata": {},
   "outputs": [],
   "source": []
  },
  {
   "cell_type": "code",
   "execution_count": 117,
   "id": "2e872157-6a76-44cd-9f81-0b0aafe0627f",
   "metadata": {},
   "outputs": [],
   "source": []
  },
  {
   "cell_type": "code",
   "execution_count": null,
   "id": "dcdd5acd-2b5e-431c-86a9-442569530dce",
   "metadata": {},
   "outputs": [],
   "source": []
  }
 ],
 "metadata": {
  "kernelspec": {
   "display_name": "Python 3 (ipykernel)",
   "language": "python",
   "name": "python3"
  },
  "language_info": {
   "codemirror_mode": {
    "name": "ipython",
    "version": 3
   },
   "file_extension": ".py",
   "mimetype": "text/x-python",
   "name": "python",
   "nbconvert_exporter": "python",
   "pygments_lexer": "ipython3",
   "version": "3.9.7"
  }
 },
 "nbformat": 4,
 "nbformat_minor": 5
}
